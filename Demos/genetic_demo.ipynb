{
 "cells": [
  {
   "cell_type": "code",
   "execution_count": 3,
   "id": "f4da4ccd",
   "metadata": {},
   "outputs": [
    {
     "name": "stdout",
     "output_type": "stream",
     "text": [
      "Number of qubits in circuit 32\n",
      "Circuit depth: 32\n"
     ]
    }
   ],
   "source": [
    "from qiskit.circuit.library import QFT\n",
    "from disqco.circuits.cp_fraction import cp_fraction, cz_fraction\n",
    "from qiskit import transpile\n",
    "from QASMBench.interface.qiskit import QASMBenchmark\n",
    "from disqco.graphs.quantum_network import QuantumNetwork\n",
    "\n",
    "\n",
    "num_qubits = 32\n",
    "\n",
    "circuit = cp_fraction(num_qubits, num_qubits, fraction=0.5)\n",
    "\n",
    "# circuit = QFT(num_qubits, do_swaps=False)\n",
    "\n",
    "num_partitions = 4 # Define the number of partitions or QPUs you will distribute over\n",
    "depth = circuit.depth()\n",
    "\n",
    "qpu_size = num_qubits // num_partitions + 1 # Define the number of qubits per QPU. For simplicity, we divide qubits evenly and add one additional space to each for teleportation (an extra space is needed for the teleportation qubit so the algorithmr requires it!)\n",
    "qpu_sizes = [qpu_size] * num_partitions # Store the number of qubits per QPU in a list\n",
    "\n",
    "# Create a quantum network with the specified number of qubits and partitions\n",
    "\n",
    "# If we do not specificy the connectivity, we have all-to-all by default.\n",
    "\n",
    "quantum_network = QuantumNetwork(qpu_sizes)\n",
    "\n",
    "\n",
    "\n",
    "basis_gates = ['u', 'cp']\n",
    "\n",
    "# Transpile the circuit to the basis gates\n",
    "circuit = transpile(circuit, basis_gates=basis_gates)\n",
    "\n",
    "print(f'Number of qubits in circuit {circuit.num_qubits}')\n",
    "print(f'Circuit depth: {circuit.depth()}')"
   ]
  },
  {
   "cell_type": "code",
   "execution_count": null,
   "id": "d0aadc4d",
   "metadata": {},
   "outputs": [
    {
     "name": "stdout",
     "output_type": "stream",
     "text": [
      "[162, 158, 147, 160, 149, 161, 152, 157, 148, 155, 152, 160, 156, 159, 157, 153, 155, 155, 155, 147, 161, 155, 157, 146, 159, 142, 160, 158, 152, 159, 152, 157, 164, 150, 153, 158, 153, 152, 156, 153, 150, 160, 160, 148, 161, 152, 155, 157, 155, 159, 156, 147, 156, 146, 145, 148, 166, 159, 150, 148, 150, 159, 159, 152, 165, 160, 153, 152, 150, 155, 160, 159, 160, 154, 151, 154, 143, 150, 152, 158, 164, 151, 153, 154, 158, 160, 155, 164, 152, 152, 151, 153, 149, 160, 149, 153, 152, 153, 147, 160]\n",
      "Current best cut: 142\n",
      "Current best cut: 121\n",
      "Current best cut: 118\n",
      "Current best cut: 118\n"
     ]
    },
    {
     "ename": "KeyboardInterrupt",
     "evalue": "",
     "output_type": "error",
     "traceback": [
      "\u001b[0;31m---------------------------------------------------------------------------\u001b[0m",
      "\u001b[0;31mKeyboardInterrupt\u001b[0m                         Traceback (most recent call last)",
      "Cell \u001b[0;32mIn[4], line 5\u001b[0m\n\u001b[1;32m      1\u001b[0m \u001b[38;5;28;01mfrom\u001b[39;00m\u001b[38;5;250m \u001b[39m\u001b[38;5;21;01mdisqco\u001b[39;00m\u001b[38;5;21;01m.\u001b[39;00m\u001b[38;5;21;01mparti\u001b[39;00m\u001b[38;5;21;01m.\u001b[39;00m\u001b[38;5;21;01mgenetic\u001b[39;00m\u001b[38;5;21;01m.\u001b[39;00m\u001b[38;5;21;01mgenetic_algorithm\u001b[39;00m\u001b[38;5;250m \u001b[39m\u001b[38;5;28;01mimport\u001b[39;00m Genetic_Partitioning\n\u001b[1;32m      3\u001b[0m genetic_partitioner \u001b[38;5;241m=\u001b[39m Genetic_Partitioning(circuit, qpu_sizes, multi_process\u001b[38;5;241m=\u001b[39m\u001b[38;5;28;01mFalse\u001b[39;00m)\n\u001b[0;32m----> 5\u001b[0m results \u001b[38;5;241m=\u001b[39m \u001b[43mgenetic_partitioner\u001b[49m\u001b[38;5;241;43m.\u001b[39;49m\u001b[43mrun\u001b[49m\u001b[43m(\u001b[49m\u001b[43mpop_size\u001b[49m\u001b[38;5;241;43m=\u001b[39;49m\u001b[38;5;241;43m100\u001b[39;49m\u001b[43m,\u001b[49m\u001b[43mnum_generations\u001b[49m\u001b[38;5;241;43m=\u001b[39;49m\u001b[38;5;241;43m100\u001b[39;49m\u001b[43m,\u001b[49m\u001b[43mmutation_rate\u001b[49m\u001b[38;5;241;43m=\u001b[39;49m\u001b[38;5;241;43m0.5\u001b[39;49m\u001b[43m,\u001b[49m\u001b[43m \u001b[49m\u001b[43mmulti_process\u001b[49m\u001b[38;5;241;43m=\u001b[39;49m\u001b[38;5;28;43;01mFalse\u001b[39;49;00m\u001b[43m,\u001b[49m\u001b[43m \u001b[49m\u001b[43mlog_frequency\u001b[49m\u001b[38;5;241;43m=\u001b[39;49m\u001b[38;5;241;43m10\u001b[39;49m\u001b[43m,\u001b[49m\u001b[43m \u001b[49m\u001b[43msearch_number\u001b[49m\u001b[38;5;241;43m=\u001b[39;49m\u001b[38;5;241;43m10\u001b[39;49m\u001b[43m)\u001b[49m\n",
      "File \u001b[0;32m~/MLQCP_FM/src/disqco/parti/genetic/genetic_algorithm.py:94\u001b[0m, in \u001b[0;36mGenetic_Partitioning.run\u001b[0;34m(self, pop_size, num_generations, random_start, mutation_rate, search_method, search_number, log, log_frequency, multi_process, choose_initial)\u001b[0m\n\u001b[1;32m     92\u001b[0m \u001b[38;5;28;01mfor\u001b[39;00m _ \u001b[38;5;129;01min\u001b[39;00m \u001b[38;5;28mrange\u001b[39m(\u001b[38;5;28mint\u001b[39m(\u001b[38;5;28mlen\u001b[39m(population)\u001b[38;5;241m/\u001b[39m\u001b[38;5;241m2\u001b[39m)\u001b[38;5;241m-\u001b[39m\u001b[38;5;241m1\u001b[39m):\n\u001b[1;32m     93\u001b[0m     parents \u001b[38;5;241m=\u001b[39m selection_pair(population,probabilities)\n\u001b[0;32m---> 94\u001b[0m     offspring_a, offspring_b \u001b[38;5;241m=\u001b[39m \u001b[43mcreate_offspring\u001b[49m\u001b[43m(\u001b[49m\u001b[43mparents\u001b[49m\u001b[43m,\u001b[49m\n\u001b[1;32m     95\u001b[0m \u001b[43m                                                \u001b[49m\u001b[38;5;28;43mself\u001b[39;49m\u001b[38;5;241;43m.\u001b[39;49m\u001b[43mqpu_info\u001b[49m\u001b[43m,\u001b[49m\n\u001b[1;32m     96\u001b[0m \u001b[43m                                                \u001b[49m\u001b[38;5;28;43mself\u001b[39;49m\u001b[38;5;241;43m.\u001b[39;49m\u001b[43mnum_qubits_log\u001b[49m\u001b[43m,\u001b[49m\n\u001b[1;32m     97\u001b[0m \u001b[43m                                                \u001b[49m\u001b[38;5;28;43mself\u001b[39;49m\u001b[38;5;241;43m.\u001b[39;49m\u001b[43mnum_layers\u001b[49m\u001b[43m,\u001b[49m\n\u001b[1;32m     98\u001b[0m \u001b[43m                                                \u001b[49m\u001b[38;5;28;43mself\u001b[39;49m\u001b[38;5;241;43m.\u001b[39;49m\u001b[43mnum_partitions\u001b[49m\u001b[43m,\u001b[49m\n\u001b[1;32m     99\u001b[0m \u001b[43m                                                \u001b[49m\u001b[38;5;28;43mself\u001b[39;49m\u001b[38;5;241;43m.\u001b[39;49m\u001b[43mgraph\u001b[49m\u001b[43m,\u001b[49m\n\u001b[1;32m    100\u001b[0m \u001b[43m                                                \u001b[49m\u001b[38;5;28;43mself\u001b[39;49m\u001b[38;5;241;43m.\u001b[39;49m\u001b[43mcosts\u001b[49m\u001b[43m,\u001b[49m\n\u001b[1;32m    101\u001b[0m \u001b[43m                                                \u001b[49m\u001b[43mmutation_rate\u001b[49m\u001b[43m)\u001b[49m\n\u001b[1;32m    102\u001b[0m     next_generation\u001b[38;5;241m.\u001b[39mappend(offspring_a)\n\u001b[1;32m    103\u001b[0m     next_generation\u001b[38;5;241m.\u001b[39mappend(offspring_b)\n",
      "File \u001b[0;32m~/MLQCP_FM/src/disqco/parti/genetic/genetic_algorithm.py:208\u001b[0m, in \u001b[0;36mcreate_offspring\u001b[0;34m(parents, qpu_info, num_qubits, num_layers, num_partitions, graph, costs, mutation_rate, number)\u001b[0m\n\u001b[1;32m    200\u001b[0m \u001b[38;5;28;01mif\u001b[39;00m random\u001b[38;5;241m.\u001b[39mrandom() \u001b[38;5;241m<\u001b[39m mutation_rate:\n\u001b[1;32m    201\u001b[0m     \u001b[38;5;66;03m# if random.random() > 0.5: \u001b[39;00m\n\u001b[1;32m    202\u001b[0m     \u001b[38;5;66;03m#     offspring_a = swap_mutation_propogate(offspring_a, num_qubits, num_layers,num=1,prob=1)\u001b[39;00m\n\u001b[0;32m   (...)\u001b[0m\n\u001b[1;32m    205\u001b[0m     \u001b[38;5;66;03m#     offspring_a = match_mutation(offspring_a, num_layers,num=1, prob=1)\u001b[39;00m\n\u001b[1;32m    206\u001b[0m     \u001b[38;5;66;03m#     offspring_b = match_mutation(offspring_b, num_layers,num=1, prob=1)\u001b[39;00m\n\u001b[1;32m    207\u001b[0m     offspring_a \u001b[38;5;241m=\u001b[39m search_mutation(graph, offspring_a, num_partitions, qpu_info, num_qubits, num_layers, costs, number)\n\u001b[0;32m--> 208\u001b[0m     offspring_b \u001b[38;5;241m=\u001b[39m \u001b[43msearch_mutation\u001b[49m\u001b[43m(\u001b[49m\u001b[43mgraph\u001b[49m\u001b[43m,\u001b[49m\u001b[43m \u001b[49m\u001b[43moffspring_b\u001b[49m\u001b[43m,\u001b[49m\u001b[43m \u001b[49m\u001b[43mnum_partitions\u001b[49m\u001b[43m,\u001b[49m\u001b[43m \u001b[49m\u001b[43mqpu_info\u001b[49m\u001b[43m,\u001b[49m\u001b[43m \u001b[49m\u001b[43mnum_qubits\u001b[49m\u001b[43m,\u001b[49m\u001b[43m \u001b[49m\u001b[43mnum_layers\u001b[49m\u001b[43m \u001b[49m\u001b[43m,\u001b[49m\u001b[43mcosts\u001b[49m\u001b[43m,\u001b[49m\u001b[43m \u001b[49m\u001b[43mnumber\u001b[49m\u001b[43m)\u001b[49m\n\u001b[1;32m    210\u001b[0m cut_a \u001b[38;5;241m=\u001b[39m fitness_function(graph,offspring_a,num_partitions,costs,qpu_info,num_layers)\n\u001b[1;32m    211\u001b[0m cut_b \u001b[38;5;241m=\u001b[39m fitness_function(graph,offspring_b,num_partitions,costs,qpu_info,num_layers)\n",
      "File \u001b[0;32m~/MLQCP_FM/src/disqco/parti/genetic/genetic_algorithm.py:445\u001b[0m, in \u001b[0;36msearch_mutation\u001b[0;34m(graph, partition, num_partitions, qpu_info, num_qubits_log, num_layers, costs, number)\u001b[0m\n\u001b[1;32m    443\u001b[0m         destination \u001b[38;5;241m=\u001b[39m part\n\u001b[1;32m    444\u001b[0m         \u001b[38;5;28;01mbreak\u001b[39;00m\n\u001b[0;32m--> 445\u001b[0m gain, stop \u001b[38;5;241m=\u001b[39m \u001b[43mcalculate_cost_interval\u001b[49m\u001b[43m(\u001b[49m\u001b[43mgraph\u001b[49m\u001b[43m,\u001b[49m\u001b[43mpartition\u001b[49m\u001b[43m,\u001b[49m\u001b[43mqpu_info\u001b[49m\u001b[43m,\u001b[49m\u001b[43mstart\u001b[49m\u001b[43m,\u001b[49m\u001b[43mdestination\u001b[49m\u001b[43m,\u001b[49m\u001b[43mqubit\u001b[49m\u001b[43m,\u001b[49m\u001b[43mnum_layers\u001b[49m\u001b[43m,\u001b[49m\u001b[43mnum_partitions\u001b[49m\u001b[43m,\u001b[49m\u001b[43mcosts\u001b[49m\u001b[43m)\u001b[49m\n\u001b[1;32m    446\u001b[0m \u001b[38;5;28;01mif\u001b[39;00m gain \u001b[38;5;241m<\u001b[39m best:\n\u001b[1;32m    447\u001b[0m     \u001b[38;5;66;03m# print(\"Gain\",gain)\u001b[39;00m\n\u001b[1;32m    448\u001b[0m     best \u001b[38;5;241m=\u001b[39m gain\n",
      "File \u001b[0;32m~/MLQCP_FM/src/disqco/parti/genetic/genetic_algorithm.py:415\u001b[0m, in \u001b[0;36mcalculate_cost_interval\u001b[0;34m(graph, partition, qpu_info, start, destination, qubit, num_layers, num_partitions, costs)\u001b[0m\n\u001b[1;32m    413\u001b[0m node \u001b[38;5;241m=\u001b[39m (qubit,n)\n\u001b[1;32m    414\u001b[0m \u001b[38;5;28;01mif\u001b[39;00m is_space(new_partition, qpu_info, destination, n):\n\u001b[0;32m--> 415\u001b[0m     cost \u001b[38;5;241m=\u001b[39m \u001b[43mfind_gain\u001b[49m\u001b[43m(\u001b[49m\u001b[43mgraph\u001b[49m\u001b[43m,\u001b[49m\u001b[43m \u001b[49m\u001b[43mnode\u001b[49m\u001b[43m,\u001b[49m\u001b[43m \u001b[49m\u001b[43mdestination\u001b[49m\u001b[43m,\u001b[49m\u001b[43m \u001b[49m\u001b[43mnew_partition\u001b[49m\u001b[43m,\u001b[49m\u001b[43m \u001b[49m\u001b[43mnum_partitions\u001b[49m\u001b[43m,\u001b[49m\u001b[43m \u001b[49m\u001b[43mcosts\u001b[49m\u001b[43m)\u001b[49m\n\u001b[1;32m    416\u001b[0m     gain \u001b[38;5;241m+\u001b[39m\u001b[38;5;241m=\u001b[39m cost\n\u001b[1;32m    417\u001b[0m     n \u001b[38;5;241m+\u001b[39m\u001b[38;5;241m=\u001b[39m \u001b[38;5;241m1\u001b[39m\n",
      "File \u001b[0;32m~/MLQCP_FM/src/disqco/parti/genetic/genetic_algorithm.py:396\u001b[0m, in \u001b[0;36mfind_gain\u001b[0;34m(hypergraph, node, destination, assignment, num_partitions, costs, log)\u001b[0m\n\u001b[1;32m    392\u001b[0m \u001b[38;5;28;01mfor\u001b[39;00m edge \u001b[38;5;129;01min\u001b[39;00m edges:\n\u001b[1;32m    393\u001b[0m     \n\u001b[1;32m    394\u001b[0m     \u001b[38;5;66;03m# cost1 = hypergraph.get_hyperedge_attribute(edge,'cost')\u001b[39;00m\n\u001b[1;32m    395\u001b[0m     root_counts, rec_counts \u001b[38;5;241m=\u001b[39m hedge_k_counts(hypergraph, edge, assignment, num_partitions, set_attrs\u001b[38;5;241m=\u001b[39m\u001b[38;5;28;01mFalse\u001b[39;00m)\n\u001b[0;32m--> 396\u001b[0m     config1 \u001b[38;5;241m=\u001b[39m \u001b[43mfull_config_from_counts\u001b[49m\u001b[43m(\u001b[49m\u001b[43mroot_counts\u001b[49m\u001b[43m,\u001b[49m\u001b[43m \u001b[49m\u001b[43mrec_counts\u001b[49m\u001b[43m)\u001b[49m\n\u001b[1;32m    397\u001b[0m     cost1 \u001b[38;5;241m=\u001b[39m costs[\u001b[38;5;28mtuple\u001b[39m(config1)]\n\u001b[1;32m    399\u001b[0m     root_counts, rec_counts \u001b[38;5;241m=\u001b[39m hedge_k_counts(hypergraph, edge, assignment_new, num_partitions, set_attrs\u001b[38;5;241m=\u001b[39m\u001b[38;5;28;01mFalse\u001b[39;00m)\n",
      "File \u001b[0;32m~/MLQCP_FM/src/disqco/graphs/hypergraph_methods.py:232\u001b[0m, in \u001b[0;36mfull_config_from_counts\u001b[0;34m(root_counts, rec_counts)\u001b[0m\n\u001b[1;32m    228\u001b[0m \u001b[38;5;250m\u001b[39m\u001b[38;5;124;03m\"\"\"\u001b[39;00m\n\u001b[1;32m    229\u001b[0m \u001b[38;5;124;03mConverts the counts of nodes in each partition to full configuration tuple.\u001b[39;00m\n\u001b[1;32m    230\u001b[0m \u001b[38;5;124;03m\"\"\"\u001b[39;00m\n\u001b[1;32m    231\u001b[0m config \u001b[38;5;241m=\u001b[39m []\n\u001b[0;32m--> 232\u001b[0m \u001b[38;5;28;01mfor\u001b[39;00m x,y \u001b[38;5;129;01min\u001b[39;00m \u001b[38;5;28;43mzip\u001b[39;49m\u001b[43m(\u001b[49m\u001b[43mroot_counts\u001b[49m\u001b[43m,\u001b[49m\u001b[43mrec_counts\u001b[49m\u001b[43m)\u001b[49m:\n\u001b[1;32m    233\u001b[0m     \u001b[38;5;28;01mif\u001b[39;00m y \u001b[38;5;241m>\u001b[39m \u001b[38;5;241m0\u001b[39m \u001b[38;5;129;01mand\u001b[39;00m x \u001b[38;5;241m<\u001b[39m \u001b[38;5;241m1\u001b[39m:\n\u001b[1;32m    234\u001b[0m         config\u001b[38;5;241m.\u001b[39mappend(\u001b[38;5;241m1\u001b[39m)\n",
      "\u001b[0;31mKeyboardInterrupt\u001b[0m: "
     ]
    }
   ],
   "source": [
    "from disqco.parti.genetic.genetic_algorithm import Genetic_Partitioning\n",
    "\n",
    "genetic_partitioner = Genetic_Partitioning(circuit, qpu_sizes, multi_process=False)\n",
    "\n",
    "results = genetic_partitioner.run(pop_size=100,num_generations=100,mutation_rate=0.5, multi_process=False, log_frequency=10, search_number=100)\n"
   ]
  }
 ],
 "metadata": {
  "kernelspec": {
   "display_name": ".venv",
   "language": "python",
   "name": "python3"
  },
  "language_info": {
   "codemirror_mode": {
    "name": "ipython",
    "version": 3
   },
   "file_extension": ".py",
   "mimetype": "text/x-python",
   "name": "python",
   "nbconvert_exporter": "python",
   "pygments_lexer": "ipython3",
   "version": "3.13.1"
  }
 },
 "nbformat": 4,
 "nbformat_minor": 5
}
