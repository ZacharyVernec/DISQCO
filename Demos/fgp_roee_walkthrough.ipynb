{
 "cells": [
  {
   "cell_type": "markdown",
   "metadata": {},
   "source": [
    "**FGP-rOEEE**\n",
    "\n",
    "Implementation of algorithm used in https://dl.acm.org/doi/10.1145/3387902.3392617.\n",
    "\n",
    "The algorithm partitions a circuit in slices, using a graph for each time-step of the circuit, which includes large-weight (infinite) edges for interactions at the given time-step and time-decaying weights (exponential used here) for future interactions.\n",
    "\n",
    "The *partition* here is a list which tells us which partition each qubit is assigned to $[\\phi(q_0), \\phi(q_1),..., \\phi(q_{N_q})]$, which determines the local and non-local interactions. *Valid* partitions are defined as those for which all interactions at the current time-step are local. The final solution we are looking for is a list of valid partitions, one for each time-step of the circuit.\n",
    "\n",
    "The algorithm starts with some heuristic for providing a starting partition for the static interaction graph, which is a graph with all interactions from the circuit summed into edges. It is also possible here to specify an initial partition, such that an external initial partitioning heuristic can be used (use the choose initial kwarg). If not, the static-OEE algorithm is used. There is also a kwarg \"remove_singles\" which removes layers which have single qubit gates only. This reduces the depth but makes it harder to extract a circuit afterwards - I choose to keep the single qubit gates in so I can visualise the result afterwards, it does't make a complexity difference because these layers are automatically valid from the previous layer.\n",
    "\n",
    "The *main_algorithm* produces the list of graphs and performs the fgp algorithm to produce a list of partitions. It also tracks and returns a *mapping*, which is a one-to-one mapping of circuit qubits to physical qubits. It doesn't affect the teleportation cost, but it is useful for visualising the result."
   ]
  },
  {
   "cell_type": "code",
   "execution_count": 1,
   "metadata": {},
   "outputs": [
    {
     "name": "stdout",
     "output_type": "stream",
     "text": [
      "Initial cost of partition:  1203\n",
      "Teleportation cost: 357 Time taken: 0.26830387115478516\n"
     ]
    }
   ],
   "source": [
    "from disqco.parti.fgp.fgp_roee import *\n",
    "from qiskit.circuit.library import QuantumVolume, QFT\n",
    "from qiskit import transpile\n",
    "import time\n",
    "from disqco.circuits.cp_fraction import *\n",
    "\n",
    "# Define the number of qubits and the circuit\n",
    "num_qubits = 32\n",
    "circuit = QuantumVolume(num_qubits, depth=num_qubits)\n",
    "\n",
    "# circuit = QFT(num_qubits, do_swaps=False)\n",
    "\n",
    "# circuit = cp_fraction(num_qubits, num_qubits, fraction=0.3)\n",
    "# Transpile the circuit into some basis gates. The gate set here was used to match those used in teh GCP paper, but it shouldn't matter which gates are used.\n",
    "# basis_gates = ['cx','h', 'rz']\n",
    "\n",
    "basis_gates = ['cp','u']\n",
    "\n",
    "transpiled_circuit = transpile(circuit, basis_gates=basis_gates)\n",
    "# Define the number of partitions\n",
    "num_partitions = 4\n",
    "\n",
    "# Define the QPU sizes in terms of data qubit capacity, here they are defined to be equal and match the number of qubits in the circuit, with an extra space in each QPU.\n",
    "\n",
    "qpu_sizes = [int(num_qubits/num_partitions) + 1 for _ in range(num_partitions)]\n",
    "\n",
    "\n",
    "initial_partition = set_initial_partition_fgp(qpu_info=qpu_sizes,num_partitions=num_partitions)\n",
    "\n",
    "start = time.time()\n",
    "partition, cost, mapping = main_algorithm(circuit=transpiled_circuit, \n",
    "                                          qpu_info=qpu_sizes,\n",
    "                                          initial_partition=initial_partition,\n",
    "                                          remove_singles=False,\n",
    "                                          choose_initial=True)\n",
    "stop = time.time()\n",
    "\n",
    "print(f\"Teleportation cost: {cost}\", f\"Time taken: {stop-start}\")"
   ]
  },
  {
   "cell_type": "markdown",
   "metadata": {},
   "source": [
    "It can be interesting to view the result in the GCP graph framework too. This essentially a combined graph from each of the slices, where each node is connected to itself in the next graph. The black edges are the multi-qubit gates and the grey edges represent the teleportations (where they ccross the dividing line). If the algorithm is working correctly then only grey edges should cross after partitioning."
   ]
  },
  {
   "cell_type": "code",
   "execution_count": 2,
   "metadata": {},
   "outputs": [
    {
     "name": "stderr",
     "output_type": "stream",
     "text": [
      "(/usr/local/texlive/2024/texmf-dist/tex/generic/pgf/frontendlayer/tikz/librarie\n",
      "s/tikzlibrarycalc.code.tex)\n",
      "(/usr/local/texlive/2024/texmf-dist/tex/generic/pgf/frontendlayer/tikz/librarie\n",
      "s/tikzlibrarybackgrounds.code.tex)\n",
      "(/usr/local/texlive/2024/texmf-dist/tex/latex/l3backend/l3backend-pdftex.def)\n",
      "No file 16e9349879c57308c8ca99293c5f5b0d.aux.\n",
      "(/usr/local/texlive/2024/texmf-dist/tex/context/base/mkii/supp-pdf.mkii\n",
      "[Loading MPS to PDF converter (version 2006.09.02).]\n",
      ") (/usr/local/texlive/2024/texmf-dist/tex/latex/epstopdf-pkg/epstopdf-base.sty\n",
      "(/usr/local/texlive/2024/texmf-dist/tex/latex/latexconfig/epstopdf-sys.cfg))\n",
      "Runaway argument?\n",
      "\\pgfsyssoftpath@movetotoken {244.59113pt}{181.38623pt}\\pgfsyssoftpath@curvetosu\n",
      "pportatoken \\ETC.\n",
      "! TeX capacity exceeded, sorry [main memory size=5000000].\n",
      "\\pgf@last@processed@path ....20073pt}{178.55789pt}\n",
      "                                                  \\pgfsyssoftpath@curvetotok...\n",
      "l.6023 ...eyStyle] (n_29_164) at (8.497,6.375) {};\n",
      "                                                  \n",
      "!  ==> Fatal error occurred, no output PDF file produced!\n",
      "Transcript written on 16e9349879c57308c8ca99293c5f5b0d.log.\n"
     ]
    },
    {
     "data": {
      "text/plain": [
       "None"
      ]
     },
     "metadata": {},
     "output_type": "display_data"
    }
   ],
   "source": [
    "from disqco.graphs.GCP_hypergraph import QuantumCircuitHyperGraph\n",
    "from disqco.drawing.tikz_drawing import draw_graph_tikz\n",
    "%load_ext jupyter_tikz\n",
    "\n",
    "initial_graph = QuantumCircuitHyperGraph(transpiled_circuit, group_gates=False, qpu_sizes=qpu_sizes)\n",
    "\n",
    "fig = draw_graph_tikz(initial_graph, partition, qpu_sizes, fill_background=True)\n",
    "\n",
    "display(fig)"
   ]
  },
  {
   "cell_type": "markdown",
   "metadata": {},
   "source": [
    "We can also extract a circuit in the same way as others using the graph and the optimised assignment."
   ]
  },
  {
   "cell_type": "code",
   "execution_count": 3,
   "metadata": {},
   "outputs": [
    {
     "name": "stdout",
     "output_type": "stream",
     "text": [
      "Depth of partitioned circuit: 464\n",
      "EPR count in partitioned circuit: 357\n"
     ]
    }
   ],
   "source": [
    "from disqco.circuit_extraction.circuit_extractor import PartitionedCircuitExtractor\n",
    "\n",
    "\n",
    "\n",
    "extractor = PartitionedCircuitExtractor(graph=initial_graph, \n",
    "                                         partition_assignment=partition, \n",
    "                                         qpu_info=qpu_sizes, \n",
    "                                         comm_info=[2]*num_partitions)\n",
    "\n",
    "\n",
    "\n",
    "basic_partitioned_circuit = extractor.extract_partitioned_circuit()\n",
    "\n",
    "basic_partitioned_circuit_EPR = transpile(basic_partitioned_circuit, basis_gates=['cp','u','EPR'])\n",
    "\n",
    "print(f\"Depth of partitioned circuit: {basic_partitioned_circuit.depth()}\")\n",
    "\n",
    "EPR_count = basic_partitioned_circuit_EPR.count_ops()['EPR']\n",
    "print(f\"EPR count in partitioned circuit: {EPR_count}\")\n",
    "\n"
   ]
  },
  {
   "cell_type": "markdown",
   "metadata": {},
   "source": [
    "In some cases, we can improve the result by performing static partitioning first (using the OEE algorithm). However, for some circuit types, the cost from FGP may end up higher than the static cost."
   ]
  },
  {
   "cell_type": "code",
   "execution_count": 4,
   "metadata": {},
   "outputs": [],
   "source": [
    "# start = time.time()\n",
    "# partition, cost, mapping = main_algorithm(circuit=transpiled_circuit, \n",
    "#                                           qpu_info=qpu_sizes,\n",
    "#                                           initial_partition=initial_partition,\n",
    "#                                           remove_singles=False,\n",
    "#                                           choose_initial=False)\n",
    "# stop = time.time()\n",
    "\n",
    "# print(f\"Teleportation cost: {cost}\", f\"Time taken: {stop-start}\")"
   ]
  }
 ],
 "metadata": {
  "kernelspec": {
   "display_name": ".venv",
   "language": "python",
   "name": "python3"
  },
  "language_info": {
   "codemirror_mode": {
    "name": "ipython",
    "version": 3
   },
   "file_extension": ".py",
   "mimetype": "text/x-python",
   "name": "python",
   "nbconvert_exporter": "python",
   "pygments_lexer": "ipython3",
   "version": "3.13.1"
  }
 },
 "nbformat": 4,
 "nbformat_minor": 2
}
