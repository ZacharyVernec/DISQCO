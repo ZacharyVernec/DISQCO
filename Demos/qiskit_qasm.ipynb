{
 "cells": [
  {
   "cell_type": "code",
   "execution_count": 2,
   "metadata": {},
   "outputs": [
    {
     "ename": "QASM3ImporterError",
     "evalue": "'2,0: non-stdgates imports not currently supported'",
     "output_type": "error",
     "traceback": [
      "\u001b[0;31m---------------------------------------------------------------------------\u001b[0m",
      "\u001b[0;31mConversionError\u001b[0m                           Traceback (most recent call last)",
      "File \u001b[0;32m~/anaconda3/lib/python3.12/site-packages/qiskit/qasm3/__init__.py:319\u001b[0m, in \u001b[0;36mload\u001b[0;34m(filename)\u001b[0m\n\u001b[1;32m    318\u001b[0m \u001b[38;5;28;01mtry\u001b[39;00m:\n\u001b[0;32m--> 319\u001b[0m     \u001b[38;5;28;01mreturn\u001b[39;00m qiskit_qasm3_import\u001b[38;5;241m.\u001b[39mparse(program)\n\u001b[1;32m    320\u001b[0m \u001b[38;5;28;01mexcept\u001b[39;00m qiskit_qasm3_import\u001b[38;5;241m.\u001b[39mConversionError \u001b[38;5;28;01mas\u001b[39;00m exc:\n",
      "File \u001b[0;32m~/anaconda3/lib/python3.12/site-packages/qiskit_qasm3_import/api.py:27\u001b[0m, in \u001b[0;36mparse\u001b[0;34m(string)\u001b[0m\n\u001b[1;32m     25\u001b[0m \u001b[38;5;250m\u001b[39m\u001b[38;5;124;03m\"\"\"Wrapper around :func:`.convert`, which first parses the OpenQASM 3 program into AST form, and\u001b[39;00m\n\u001b[1;32m     26\u001b[0m \u001b[38;5;124;03mthen converts the output to Qiskit format.\"\"\"\u001b[39;00m\n\u001b[0;32m---> 27\u001b[0m \u001b[38;5;28;01mreturn\u001b[39;00m convert(openqasm3\u001b[38;5;241m.\u001b[39mparse(string))\n",
      "File \u001b[0;32m~/anaconda3/lib/python3.12/site-packages/qiskit_qasm3_import/api.py:21\u001b[0m, in \u001b[0;36mconvert\u001b[0;34m(node)\u001b[0m\n\u001b[1;32m     19\u001b[0m \u001b[38;5;250m\u001b[39m\u001b[38;5;124;03m\"\"\"Convert a parsed OpenQASM 3 program in AST form, into a Qiskit\u001b[39;00m\n\u001b[1;32m     20\u001b[0m \u001b[38;5;124;03m:class:`~qiskit.circuit.QuantumCircuit`.\"\"\"\u001b[39;00m\n\u001b[0;32m---> 21\u001b[0m \u001b[38;5;28;01mreturn\u001b[39;00m ConvertVisitor()\u001b[38;5;241m.\u001b[39mconvert(node)\u001b[38;5;241m.\u001b[39mcircuit\n",
      "File \u001b[0;32m~/anaconda3/lib/python3.12/site-packages/qiskit_qasm3_import/converter.py:147\u001b[0m, in \u001b[0;36mConvertVisitor.convert\u001b[0;34m(self, node, source)\u001b[0m\n\u001b[1;32m    139\u001b[0m \u001b[38;5;250m\u001b[39m\u001b[38;5;124;03m\"\"\"Convert a program node into a :class:`~qiskit.circuit.QuantumCircuit`.\u001b[39;00m\n\u001b[1;32m    140\u001b[0m \n\u001b[1;32m    141\u001b[0m \u001b[38;5;124;03mIf given, `source` is a string containing the OpenQASM 3 source code that was parsed into\u001b[39;00m\n\u001b[0;32m   (...)\u001b[0m\n\u001b[1;32m    144\u001b[0m \u001b[38;5;124;03mstored in property thereof named `circuit`.\u001b[39;00m\n\u001b[1;32m    145\u001b[0m \u001b[38;5;124;03m\"\"\"\u001b[39;00m\n\u001b[0;32m--> 147\u001b[0m state: State \u001b[38;5;241m=\u001b[39m \u001b[38;5;28mself\u001b[39m\u001b[38;5;241m.\u001b[39mvisit(node, State(source))\n\u001b[1;32m    148\u001b[0m \u001b[38;5;28;01mif\u001b[39;00m state\u001b[38;5;241m.\u001b[39maddressing_mode\u001b[38;5;241m.\u001b[39mis_physical():\n\u001b[1;32m    149\u001b[0m     \u001b[38;5;66;03m# pylint: disable=protected-access\u001b[39;00m\n",
      "File \u001b[0;32m~/anaconda3/lib/python3.12/site-packages/openqasm3/visitor.py:44\u001b[0m, in \u001b[0;36mQASMVisitor.visit\u001b[0;34m(self, node, context)\u001b[0m\n\u001b[1;32m     43\u001b[0m \u001b[38;5;28;01mif\u001b[39;00m context:\n\u001b[0;32m---> 44\u001b[0m     \u001b[38;5;28;01mreturn\u001b[39;00m visitor(node, context)\n\u001b[1;32m     45\u001b[0m \u001b[38;5;28;01melse\u001b[39;00m:\n",
      "File \u001b[0;32m~/anaconda3/lib/python3.12/site-packages/qiskit_qasm3_import/converter.py:288\u001b[0m, in \u001b[0;36mConvertVisitor.visit_Program\u001b[0;34m(self, node, context)\u001b[0m\n\u001b[1;32m    287\u001b[0m \u001b[38;5;28;01mfor\u001b[39;00m statement \u001b[38;5;129;01min\u001b[39;00m node\u001b[38;5;241m.\u001b[39mstatements:\n\u001b[0;32m--> 288\u001b[0m     context \u001b[38;5;241m=\u001b[39m \u001b[38;5;28mself\u001b[39m\u001b[38;5;241m.\u001b[39mvisit(statement, context)\n\u001b[1;32m    289\u001b[0m \u001b[38;5;28;01mreturn\u001b[39;00m context\n",
      "File \u001b[0;32m~/anaconda3/lib/python3.12/site-packages/openqasm3/visitor.py:44\u001b[0m, in \u001b[0;36mQASMVisitor.visit\u001b[0;34m(self, node, context)\u001b[0m\n\u001b[1;32m     43\u001b[0m \u001b[38;5;28;01mif\u001b[39;00m context:\n\u001b[0;32m---> 44\u001b[0m     \u001b[38;5;28;01mreturn\u001b[39;00m visitor(node, context)\n\u001b[1;32m     45\u001b[0m \u001b[38;5;28;01melse\u001b[39;00m:\n",
      "File \u001b[0;32m~/anaconda3/lib/python3.12/site-packages/qiskit_qasm3_import/converter.py:293\u001b[0m, in \u001b[0;36mConvertVisitor.visit_Include\u001b[0;34m(self, node, context)\u001b[0m\n\u001b[1;32m    292\u001b[0m \u001b[38;5;28;01mif\u001b[39;00m node\u001b[38;5;241m.\u001b[39mfilename \u001b[38;5;241m!=\u001b[39m \u001b[38;5;124m\"\u001b[39m\u001b[38;5;124mstdgates.inc\u001b[39m\u001b[38;5;124m\"\u001b[39m:\n\u001b[0;32m--> 293\u001b[0m     raise_from_node(node, \u001b[38;5;124m\"\u001b[39m\u001b[38;5;124mnon-stdgates imports not currently supported\u001b[39m\u001b[38;5;124m\"\u001b[39m)\n\u001b[1;32m    294\u001b[0m \u001b[38;5;28;01mfor\u001b[39;00m name, (builder, n_arguments, n_qubits) \u001b[38;5;129;01min\u001b[39;00m _STDGATES\u001b[38;5;241m.\u001b[39mitems():\n",
      "File \u001b[0;32m~/anaconda3/lib/python3.12/site-packages/qiskit_qasm3_import/exceptions.py:31\u001b[0m, in \u001b[0;36mraise_from_node\u001b[0;34m(node, message)\u001b[0m\n\u001b[1;32m     30\u001b[0m \u001b[38;5;250m\u001b[39m\u001b[38;5;124;03m\"\"\"Raise a :exc:`.ConversionError` caused by the given `node`.\"\"\"\u001b[39;00m\n\u001b[0;32m---> 31\u001b[0m \u001b[38;5;28;01mraise\u001b[39;00m ConversionError(message, node)\n",
      "\u001b[0;31mConversionError\u001b[0m: 2,0: non-stdgates imports not currently supported",
      "\nThe above exception was the direct cause of the following exception:\n",
      "\u001b[0;31mQASM3ImporterError\u001b[0m                        Traceback (most recent call last)",
      "Cell \u001b[0;32mIn[2], line 15\u001b[0m\n\u001b[1;32m     11\u001b[0m \u001b[38;5;28;01mimport\u001b[39;00m \u001b[38;5;21;01mqiskit\u001b[39;00m\u001b[38;5;21;01m.\u001b[39;00m\u001b[38;5;21;01mqasm\u001b[39;00m\u001b[38;5;21;01m.\u001b[39;00m\u001b[38;5;21;01mlibs\u001b[39;00m\n\u001b[1;32m     13\u001b[0m path \u001b[38;5;241m=\u001b[39m \u001b[38;5;124m'\u001b[39m\u001b[38;5;124m/Users/ftb123/QASMBench/QASMBench/large/QAOA_3SAT_N100_p100/random_QAOA_angles_k3_N100_p100.qasm\u001b[39m\u001b[38;5;124m'\u001b[39m\n\u001b[0;32m---> 15\u001b[0m circuit \u001b[38;5;241m=\u001b[39m  qiskit\u001b[38;5;241m.\u001b[39mqasm3\u001b[38;5;241m.\u001b[39mload(path)\n\u001b[1;32m     17\u001b[0m \u001b[38;5;66;03m# circuit = QuantumCircuit.from_qasm_file(path)\u001b[39;00m\n\u001b[1;32m     18\u001b[0m \n\u001b[1;32m     19\u001b[0m \u001b[38;5;66;03m# circuit = QAOA_random(num_qubits=48, prob = 10, reps = 1)\u001b[39;00m\n\u001b[1;32m     20\u001b[0m \u001b[38;5;66;03m# circuit = QFT(63)\u001b[39;00m\n\u001b[1;32m     21\u001b[0m \n\u001b[1;32m     22\u001b[0m \u001b[38;5;66;03m# circuit = HRSCumulativeMultiplier(5,num_result_qubits=None)\u001b[39;00m\n\u001b[1;32m     24\u001b[0m circuit \u001b[38;5;241m=\u001b[39m transpile(circuit, basis_gates \u001b[38;5;241m=\u001b[39m [\u001b[38;5;124m'\u001b[39m\u001b[38;5;124mcp\u001b[39m\u001b[38;5;124m'\u001b[39m, \u001b[38;5;124m'\u001b[39m\u001b[38;5;124mu\u001b[39m\u001b[38;5;124m'\u001b[39m])\n",
      "File \u001b[0;32m~/anaconda3/lib/python3.12/site-packages/qiskit/utils/lazy_tester.py:149\u001b[0m, in \u001b[0;36mLazyDependencyManager.require_in_call.<locals>.decorator.<locals>.out\u001b[0;34m(*args, **kwargs)\u001b[0m\n\u001b[1;32m    146\u001b[0m \u001b[38;5;129m@functools\u001b[39m\u001b[38;5;241m.\u001b[39mwraps(function)\n\u001b[1;32m    147\u001b[0m \u001b[38;5;28;01mdef\u001b[39;00m \u001b[38;5;21mout\u001b[39m(\u001b[38;5;241m*\u001b[39margs, \u001b[38;5;241m*\u001b[39m\u001b[38;5;241m*\u001b[39mkwargs):\n\u001b[1;32m    148\u001b[0m     \u001b[38;5;28mself\u001b[39m\u001b[38;5;241m.\u001b[39mrequire_now(feature)\n\u001b[0;32m--> 149\u001b[0m     \u001b[38;5;28;01mreturn\u001b[39;00m function(\u001b[38;5;241m*\u001b[39margs, \u001b[38;5;241m*\u001b[39m\u001b[38;5;241m*\u001b[39mkwargs)\n",
      "File \u001b[0;32m~/anaconda3/lib/python3.12/site-packages/qiskit/qasm3/__init__.py:321\u001b[0m, in \u001b[0;36mload\u001b[0;34m(filename)\u001b[0m\n\u001b[1;32m    319\u001b[0m     \u001b[38;5;28;01mreturn\u001b[39;00m qiskit_qasm3_import\u001b[38;5;241m.\u001b[39mparse(program)\n\u001b[1;32m    320\u001b[0m \u001b[38;5;28;01mexcept\u001b[39;00m qiskit_qasm3_import\u001b[38;5;241m.\u001b[39mConversionError \u001b[38;5;28;01mas\u001b[39;00m exc:\n\u001b[0;32m--> 321\u001b[0m     \u001b[38;5;28;01mraise\u001b[39;00m QASM3ImporterError(\u001b[38;5;28mstr\u001b[39m(exc)) \u001b[38;5;28;01mfrom\u001b[39;00m \u001b[38;5;21;01mexc\u001b[39;00m\n",
      "\u001b[0;31mQASM3ImporterError\u001b[0m: '2,0: non-stdgates imports not currently supported'"
     ]
    }
   ],
   "source": [
    "from qiskit import QuantumCircuit\n",
    "import qiskit\n",
    "from qiskit import transpile\n",
    "from src.GCP_hypergraph import QuantumCircuitHyperGraph\n",
    "\n",
    "from qiskit.circuit.library import QFT, RGQFTMultiplier, HRSCumulativeMultiplier\n",
    "from src.FM_methods import set_initial_partitions\n",
    "\n",
    "import qiskit.qasm3\n",
    "from circuits.QAOA import QAOA_random\n",
    "import qiskit.qasm.libs\n",
    "\n",
    "path = '/Users/ftb123/QASMBench/QASMBench/large/QAOA_3SAT_N100_p100/random_QAOA_angles_k3_N100_p100.qasm'\n",
    "\n",
    "circuit =  qiskit.qasm3.load(path)\n",
    "\n",
    "# circuit = QuantumCircuit.from_qasm_file(path)\n",
    "\n",
    "# circuit = QAOA_random(num_qubits=48, prob = 10, reps = 1)\n",
    "# circuit = QFT(63)\n",
    "\n",
    "# circuit = HRSCumulativeMultiplier(5,num_result_qubits=None)\n",
    "\n",
    "circuit = transpile(circuit, basis_gates = ['cp', 'u'])\n",
    "\n",
    "\n",
    "\n",
    "\n",
    "depth = circuit.depth()\n",
    "num_qubits = circuit.num_qubits\n",
    "\n",
    "print('Depth:', depth)\n",
    "print('Number of qubits:', num_qubits)\n",
    "\n",
    "num_partitions = 4\n",
    "qpu_info = [int(num_qubits/num_partitions)+1]*num_partitions\n",
    "\n",
    "graph = QuantumCircuitHyperGraph(num_qubits=num_qubits, depth = depth+1)\n",
    "graph.map_circuit_to_hypergraph(circuit, group_gates = True, anti_diag = False)\n",
    "assignment = set_initial_partitions(qpu_info, num_qubits, depth+1, num_partitions, reduced = True)\n",
    "\n",
    "from src.joint_hyperedges import *\n",
    "from src.FM_methods import get_all_configs, get_all_costs\n",
    "\n",
    "configs = get_all_configs(num_partitions)\n",
    "costs = get_all_costs(configs)\n",
    "\n",
    "# circuit.draw(output='mpl', fold=100)\n",
    "\n"
   ]
  },
  {
   "cell_type": "code",
   "execution_count": 31,
   "metadata": {},
   "outputs": [
    {
     "name": "stdout",
     "output_type": "stream",
     "text": [
      "Initial cost: 3\n",
      "All passes complete.\n",
      "Final cost: 3\n",
      "Best cost at level 0: 3\n",
      "Initial cost: 3\n",
      "All passes complete.\n",
      "Final cost: 6\n",
      "Best cost at level 1: 3\n",
      "Initial cost: 3\n",
      "All passes complete.\n",
      "Final cost: 7\n",
      "Best cost at level 2: 3\n",
      "Initial cost: 3\n",
      "All passes complete.\n",
      "Final cost: 6\n",
      "Best cost at level 3: 3\n",
      "Initial cost: 3\n",
      "All passes complete.\n",
      "Final cost: 3\n",
      "Best cost at level 4: 3\n",
      "Initial cost: 3\n",
      "All passes complete.\n",
      "Final cost: 4\n",
      "Best cost at level 5: 3\n",
      "Initial cost: 3\n",
      "All passes complete.\n",
      "Final cost: 3\n",
      "Best cost at level 6: 3\n",
      "Initial cost: 3\n",
      "All passes complete.\n",
      "Final cost: 3\n",
      "Best cost at level 7: 3\n",
      "3\n",
      "Extra time: 0.014052152633666992\n",
      "3\n"
     ]
    }
   ],
   "source": [
    "from src.multilevel_FM import MLFM_recursive\n",
    "import time\n",
    "\n",
    "\n",
    "assignment_list, cost_list, time_list = MLFM_recursive(graph,\n",
    "                                        assignment,  \n",
    "                                        qpu_info, \n",
    "                                        limit = None, \n",
    "                                        pass_list= None, \n",
    "                                        stochastic=True, \n",
    "                                        lock_nodes=False,\n",
    "                                        log = True,\n",
    "                                        add_initial = False,\n",
    "                                        costs = None)\n",
    "\n",
    "print(min(cost_list))\n",
    "\n",
    "start = time.time()\n",
    "final_cost = optimise_detached_hyperedges(graph, assignment_list[np.argmin(cost_list)], num_partitions, costs)\n",
    "end = time.time()\n",
    "print(\"Extra time:\", end - start)\n",
    "print(final_cost)"
   ]
  },
  {
   "cell_type": "code",
   "execution_count": 32,
   "metadata": {},
   "outputs": [
    {
     "data": {
      "image/png": "[encoded data removed]",
      "text/plain": [
       "<Figure size 1000x600 with 1 Axes>"
      ]
     },
     "metadata": {},
     "output_type": "display_data"
    }
   ],
   "source": [
    "from src.tikz_drawing import *\n",
    "from src.mpl_drawing import *\n",
    "assignment = assignment_list[np.argmin(cost_list)]\n",
    "\n",
    "mpl_fig = hypergraph_to_matplotlib(\n",
    "    graph, \n",
    "    num_qubits,\n",
    "    assignment,\n",
    "    qpu_info,\n",
    "    depth+1,\n",
    "    sum(qpu_info),\n",
    "    xscale=depth,\n",
    "    yscale=num_qubits,\n",
    "    figsize=(10, 6),\n",
    "    save=False,\n",
    "    path=None,\n",
    "    ax=None\n",
    ")"
   ]
  }
 ],
 "metadata": {
  "kernelspec": {
   "display_name": "base",
   "language": "python",
   "name": "python3"
  },
  "language_info": {
   "codemirror_mode": {
    "name": "ipython",
    "version": 3
   },
   "file_extension": ".py",
   "mimetype": "text/x-python",
   "name": "python",
   "nbconvert_exporter": "python",
   "pygments_lexer": "ipython3",
   "version": "3.12.2"
  }
 },
 "nbformat": 4,
 "nbformat_minor": 2
}
