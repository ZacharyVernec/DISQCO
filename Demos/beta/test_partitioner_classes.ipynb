{
 "cells": [
  {
   "cell_type": "code",
   "execution_count": 1,
   "id": "2d137f73",
   "metadata": {},
   "outputs": [
    {
     "name": "stdout",
     "output_type": "stream",
     "text": [
      "Number of qubits in circuit 32\n",
      "Circuit depth: 32\n"
     ]
    }
   ],
   "source": [
    "from qiskit.circuit.library import QFT\n",
    "from disqco.circuits.cp_fraction import cp_fraction, cz_fraction\n",
    "from qiskit import transpile\n",
    "from QASMBench.interface.qiskit import QASMBenchmark\n",
    "from disqco.graphs.quantum_network import QuantumNetwork\n",
    "\n",
    "\n",
    "num_qubits = 32\n",
    "\n",
    "circuit = cp_fraction(num_qubits, num_qubits, fraction=0.5)\n",
    "\n",
    "# circuit = QFT(num_qubits, do_swaps=False)\n",
    "\n",
    "num_partitions = 4 # Define the number of partitions or QPUs you will distribute over\n",
    "depth = circuit.depth()\n",
    "\n",
    "qpu_size = num_qubits // num_partitions + 1 # Define the number of qubits per QPU. For simplicity, we divide qubits evenly and add one additional space to each for teleportation (an extra space is needed for the teleportation qubit so the algorithmr requires it!)\n",
    "qpu_sizes = [qpu_size] * num_partitions # Store the number of qubits per QPU in a list\n",
    "\n",
    "# Create a quantum network with the specified number of qubits and partitions\n",
    "\n",
    "# If we do not specificy the connectivity, we have all-to-all by default.\n",
    "\n",
    "quantum_network = QuantumNetwork(qpu_sizes)\n",
    "\n",
    "\n",
    "\n",
    "basis_gates = ['u', 'cp']\n",
    "\n",
    "# Transpile the circuit to the basis gates\n",
    "circuit = transpile(circuit, basis_gates=basis_gates)\n",
    "\n",
    "print(f'Number of qubits in circuit {circuit.num_qubits}')\n",
    "print(f'Circuit depth: {circuit.depth()}')"
   ]
  },
  {
   "cell_type": "code",
   "execution_count": 2,
   "id": "d335ddb4",
   "metadata": {},
   "outputs": [],
   "source": [
    "from disqco.parti.FM.fiduccia import *\n",
    "\n",
    "FM_partitioner = FiducciaMattheyses(circuit=circuit,\n",
    "                                    network=quantum_network)"
   ]
  },
  {
   "cell_type": "code",
   "execution_count": 3,
   "id": "2edd46b2",
   "metadata": {},
   "outputs": [
    {
     "name": "stdout",
     "output_type": "stream",
     "text": [
      "Best cost: 104\n"
     ]
    }
   ],
   "source": [
    "results = FM_partitioner.partition()\n",
    "\n",
    "\n",
    "print(f'Best cost: {results['best_cost']}')"
   ]
  }
 ],
 "metadata": {
  "kernelspec": {
   "display_name": ".venv",
   "language": "python",
   "name": "python3"
  },
  "language_info": {
   "codemirror_mode": {
    "name": "ipython",
    "version": 3
   },
   "file_extension": ".py",
   "mimetype": "text/x-python",
   "name": "python",
   "nbconvert_exporter": "python",
   "pygments_lexer": "ipython3",
   "version": "3.13.1"
  }
 },
 "nbformat": 4,
 "nbformat_minor": 5
}
