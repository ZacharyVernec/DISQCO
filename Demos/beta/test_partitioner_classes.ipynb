{
 "cells": [
  {
   "cell_type": "code",
   "execution_count": 1,
   "id": "2d137f73",
   "metadata": {},
   "outputs": [
    {
     "name": "stdout",
     "output_type": "stream",
     "text": [
      "Number of qubits in circuit 32\n",
      "Circuit depth: 32\n"
     ]
    }
   ],
   "source": [
    "from qiskit.circuit.library import QFT\n",
    "from disqco.circuits.cp_fraction import cp_fraction, cz_fraction\n",
    "from qiskit import transpile\n",
    "from QASMBench.interface.qiskit import QASMBenchmark\n",
    "from disqco.graphs.quantum_network import QuantumNetwork\n",
    "\n",
    "\n",
    "num_qubits = 32\n",
    "\n",
    "circuit = cp_fraction(num_qubits, num_qubits, fraction=0.5)\n",
    "\n",
    "# circuit = QFT(num_qubits, do_swaps=False)\n",
    "\n",
    "num_partitions = 4  # Define the number of partitions or QPUs you will distribute over\n",
    "depth = circuit.depth()\n",
    "\n",
    "qpu_size = num_qubits // num_partitions + 1 # Define the number of qubits per QPU. For simplicity, we divide qubits evenly and add one additional space to each for teleportation (an extra space is needed for the teleportation qubit so the algorithmr requires it!)\n",
    "qpu_sizes = [qpu_size] * num_partitions # Store the number of qubits per QPU in a list\n",
    "\n",
    "# Create a quantum network with the specified number of qubits and partitions\n",
    "\n",
    "# If we do not specificy the connectivity, we have all-to-all by default.\n",
    "\n",
    "quantum_network = QuantumNetwork(qpu_sizes)\n",
    "\n",
    "\n",
    "\n",
    "basis_gates = ['u', 'cp']\n",
    "\n",
    "# Transpile the circuit to the basis gates\n",
    "circuit = transpile(circuit, basis_gates=basis_gates)\n",
    "\n",
    "print(f'Number of qubits in circuit {circuit.num_qubits}')\n",
    "print(f'Circuit depth: {circuit.depth()}')"
   ]
  },
  {
   "cell_type": "code",
   "execution_count": 2,
   "id": "d335ddb4",
   "metadata": {},
   "outputs": [],
   "source": [
    "from disqco.parti.FM.fiduccia import *\n",
    "\n",
    "FM_partitioner = FiducciaMattheyses(circuit=circuit,\n",
    "                                    network=quantum_network)"
   ]
  },
  {
   "cell_type": "code",
   "execution_count": 3,
   "id": "2edd46b2",
   "metadata": {},
   "outputs": [
    {
     "name": "stdout",
     "output_type": "stream",
     "text": [
      "Best cost: 104\n"
     ]
    }
   ],
   "source": [
    "results = FM_partitioner.partition()\n",
    "\n",
    "print(f'Best cost: {results['best_cost']}')"
   ]
  },
  {
   "cell_type": "code",
   "execution_count": 4,
   "id": "99959467",
   "metadata": {},
   "outputs": [],
   "source": [
    "# from disqco.parti.genetic.genetic_algorithm_beta import *\n",
    "\n",
    "# GA_partitioner = GeneticPartitioner(circuit=circuit, network=quantum_network, group_gates=True, log=True, multi_process=True)\n",
    "\n",
    "# results = GA_partitioner.partition()\n",
    "# print(f'Best cost: {results['best_cost']}')"
   ]
  },
  {
   "cell_type": "code",
   "execution_count": 5,
   "id": "645e3022",
   "metadata": {},
   "outputs": [
    {
     "name": "stdout",
     "output_type": "stream",
     "text": [
      "Best cost at level 0: 110\n",
      "Best cost at level 1: 103\n",
      "Best cost at level 2: 96\n",
      "Best cost at level 3: 94\n",
      "Best cost at level 4: 94\n",
      "Best cost at level 5: 94\n"
     ]
    }
   ],
   "source": [
    "from disqco.graphs.coarsening.coarsener import HypergraphCoarsener\n",
    "\n",
    "coarsener = HypergraphCoarsener()\n",
    "\n",
    "coarseneing_method = coarsener.coarsen_recursive_batches_mapped\n",
    "\n",
    "results = FM_partitioner.multilevel_partition(coarsener=coarseneing_method)"
   ]
  },
  {
   "cell_type": "code",
   "execution_count": 6,
   "id": "43d4931c",
   "metadata": {},
   "outputs": [
    {
     "name": "stdout",
     "output_type": "stream",
     "text": [
      "Best cost: 94\n"
     ]
    }
   ],
   "source": [
    "print(f'Best cost: {results['best_cost']}')"
   ]
  },
  {
   "cell_type": "code",
   "execution_count": 7,
   "id": "751975a8",
   "metadata": {},
   "outputs": [],
   "source": [
    "# results = GA_partitioner.multilevel_partition(coarsener=coarseneing_method)"
   ]
  },
  {
   "cell_type": "code",
   "execution_count": 8,
   "id": "3df455b1",
   "metadata": {},
   "outputs": [
    {
     "name": "stdout",
     "output_type": "stream",
     "text": [
      "Initial cost: 181\n",
      "All passes complete.\n",
      "Final cost: 143\n"
     ]
    }
   ],
   "source": [
    "from disqco.graphs.quantum_network import linear_coupling\n",
    "\n",
    "coupling = linear_coupling(num_partitions)\n",
    "network = QuantumNetwork(qpu_sizes, qpu_connectivity=coupling)\n",
    "FM_partitioner = FiducciaMattheyses(circuit=circuit,\n",
    "                                    network=network)\n",
    "\n",
    "\n",
    "results = FM_partitioner.partition(log=True)"
   ]
  },
  {
   "cell_type": "code",
   "execution_count": 9,
   "id": "084cf8b4",
   "metadata": {},
   "outputs": [
    {
     "name": "stdout",
     "output_type": "stream",
     "text": [
      "Best cost at level 0: 148\n",
      "Best cost at level 1: 138\n",
      "Best cost at level 2: 133\n",
      "Best cost at level 3: 129\n",
      "Best cost at level 4: 126\n",
      "Best cost at level 5: 124\n"
     ]
    }
   ],
   "source": [
    "results = FM_partitioner.multilevel_partition()"
   ]
  }
 ],
 "metadata": {
  "kernelspec": {
   "display_name": ".venv",
   "language": "python",
   "name": "python3"
  },
  "language_info": {
   "codemirror_mode": {
    "name": "ipython",
    "version": 3
   },
   "file_extension": ".py",
   "mimetype": "text/x-python",
   "name": "python",
   "nbconvert_exporter": "python",
   "pygments_lexer": "ipython3",
   "version": "3.13.1"
  }
 },
 "nbformat": 4,
 "nbformat_minor": 5
}
