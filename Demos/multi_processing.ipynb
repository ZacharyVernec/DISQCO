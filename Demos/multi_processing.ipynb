{
 "cells": [
  {
   "cell_type": "code",
   "execution_count": null,
   "metadata": {
    "vscode": {
     "languageId": "plaintext"
    }
   },
   "outputs": [],
   "source": [
    "# def generate_partition(qpu_info: int, num_layers: int, num_qubits: int, random_start = False, reduced = True):\n",
    "#     \"Create candidate partition\"\n",
    "#     if reduced:\n",
    "#         length = num_qubits\n",
    "#     else:\n",
    "#         length = np.sum(qpu_info)\n",
    "\n",
    "#     candidate_layer = np.zeros(np.sum(qpu_info),dtype=int)\n",
    "#     counter = 0\n",
    "#     for k in range(len(qpu_info)):\n",
    "#         qpu_size = qpu_info[k]\n",
    "#         for n in range(qpu_size):\n",
    "#             candidate_layer[counter] = k\n",
    "#             counter += 1\n",
    "#     candidate = np.zeros((num_layers,length),dtype=int)\n",
    "#     layer = np.random.permutation(candidate_layer)\n",
    "#     for l in range(num_layers):\n",
    "#         candidate[l] = layer[:num_qubits]\n",
    "#         if random_start == True:\n",
    "#             if random.random() > 0.5:\n",
    "#                 layer = np.random.permutation(candidate_layer)\n",
    "#     return candidate\n",
    "\n",
    "# num_tests = 10\n",
    "# list_of_best_costs = []\n",
    "# partition_list = [generate_partition(qpu_info, depth, num_qubits, random_start = True, reduced=True) for _ in range(num_tests)]\n",
    "\n",
    "# num_levels = 4\n",
    "# arg_list = [(coarsened_hypergraphs, partition_list[i][0], num_partitions, qpu_info, num_qubits, num_levels, num_qubits*depth/16, [5]*(num_levels+2), True, False) for i in range(num_tests)]\n",
    "\n",
    "# import multiprocessing as mp\n",
    "\n",
    "# cpu_count = mp.cpu_count()\n",
    "# pool = mp.Pool(mp.cpu_count())\n",
    "\n",
    "# results = pool.starmap(multilevel_FM, arg_list)\n",
    "\n",
    "# for result in results:\n",
    "#     print(min(result[1]))"
   ]
  }
 ],
 "metadata": {
  "language_info": {
   "name": "python"
  }
 },
 "nbformat": 4,
 "nbformat_minor": 2
}
