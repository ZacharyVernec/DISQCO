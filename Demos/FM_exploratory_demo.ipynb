{
 "cells": [
  {
   "cell_type": "markdown",
   "metadata": {},
   "source": [
    "## Exploratory FM\n",
    "\n",
    "We introduced a slight tweak to the standard FM algorithm to make it more resistant to local minima. Typical FM works by choosing the best node to move (in terms of the cost improvement) at each iteration, then locking that node for the duration of the pass. This continues until every valid move available has been made. The algorithm does not prevent moves that increase cost, it simply chooses those that increase the cost the least. This allows long sequences of moves to be probed and increases chances of escaping local minima. At the end of the pass, the state of the graph is rolled back to the point at which the cost was minimal. This is then repeated for some number of passes. \n",
    "\n",
    "The tweak we made is to only perform the roll-back intermittently, allowing more complex sequences of moves to be probed before roll-back. This means that the cost doesn't necessarily decrease with each pass, but does on average. This turns out to be very effective, as long as we terminate each pass before all nodes have been moved. If we wait for all nodes to be moved, there is no benefit to this tweak."
   ]
  },
  {
   "cell_type": "code",
   "execution_count": 12,
   "metadata": {},
   "outputs": [
    {
     "name": "stdout",
     "output_type": "stream",
     "text": [
      "Initial cost: 406\n"
     ]
    },
    {
     "ename": "KeyboardInterrupt",
     "evalue": "",
     "output_type": "error",
     "traceback": [
      "\u001b[0;31m---------------------------------------------------------------------------\u001b[0m",
      "\u001b[0;31mKeyError\u001b[0m                                  Traceback (most recent call last)",
      "File \u001b[0;32m/opt/homebrew/Cellar/python@3.13/3.13.1/Frameworks/Python.framework/Versions/3.13/lib/python3.13/copy.py:243\u001b[0m, in \u001b[0;36m_keep_alive\u001b[0;34m(x, memo)\u001b[0m\n\u001b[1;32m    242\u001b[0m \u001b[38;5;28;01mtry\u001b[39;00m:\n\u001b[0;32m--> 243\u001b[0m     \u001b[43mmemo\u001b[49m\u001b[43m[\u001b[49m\u001b[38;5;28;43mid\u001b[39;49m\u001b[43m(\u001b[49m\u001b[43mmemo\u001b[49m\u001b[43m)\u001b[49m\u001b[43m]\u001b[49m\u001b[38;5;241m.\u001b[39mappend(x)\n\u001b[1;32m    244\u001b[0m \u001b[38;5;28;01mexcept\u001b[39;00m \u001b[38;5;167;01mKeyError\u001b[39;00m:\n\u001b[1;32m    245\u001b[0m     \u001b[38;5;66;03m# aha, this is the first one :-)\u001b[39;00m\n",
      "\u001b[0;31mKeyError\u001b[0m: 5182957056",
      "\nDuring handling of the above exception, another exception occurred:\n",
      "\u001b[0;31mKeyboardInterrupt\u001b[0m                         Traceback (most recent call last)",
      "Cell \u001b[0;32mIn[12], line 22\u001b[0m\n\u001b[1;32m     18\u001b[0m initial_assignment \u001b[38;5;241m=\u001b[39m set_initial_partitions(network, num_qubits, circuit\u001b[38;5;241m.\u001b[39mdepth())\n\u001b[1;32m     20\u001b[0m \u001b[38;5;28;01mfrom\u001b[39;00m\u001b[38;5;250m \u001b[39m\u001b[38;5;21;01mdisqco\u001b[39;00m\u001b[38;5;21;01m.\u001b[39;00m\u001b[38;5;21;01mparti\u001b[39;00m\u001b[38;5;21;01m.\u001b[39;00m\u001b[38;5;21;01mFM\u001b[39;00m\u001b[38;5;21;01m.\u001b[39;00m\u001b[38;5;21;01mFM_main\u001b[39;00m\u001b[38;5;250m \u001b[39m\u001b[38;5;28;01mimport\u001b[39;00m run_FM\n\u001b[0;32m---> 22\u001b[0m final_cost, final_assignment, cost_list_1 \u001b[38;5;241m=\u001b[39m \u001b[43mrun_FM\u001b[49m\u001b[43m(\u001b[49m\n\u001b[1;32m     23\u001b[0m \u001b[43m    \u001b[49m\u001b[43mgraph\u001b[49m\u001b[43m,\u001b[49m\n\u001b[1;32m     24\u001b[0m \u001b[43m    \u001b[49m\u001b[43minitial_assignment\u001b[49m\u001b[43m,\u001b[49m\n\u001b[1;32m     25\u001b[0m \u001b[43m    \u001b[49m\u001b[43mqpu_info\u001b[49m\u001b[43m,\u001b[49m\n\u001b[1;32m     26\u001b[0m \u001b[43m    \u001b[49m\u001b[43mlimit\u001b[49m\u001b[43m \u001b[49m\u001b[38;5;241;43m=\u001b[39;49m\u001b[43m \u001b[49m\u001b[43mnum_qubits\u001b[49m\u001b[38;5;241;43m*\u001b[39;49m\u001b[43mgraph\u001b[49m\u001b[38;5;241;43m.\u001b[39;49m\u001b[43mdepth\u001b[49m\u001b[38;5;241;43m*\u001b[39;49m\u001b[38;5;241;43m0.125\u001b[39;49m\u001b[43m,\u001b[49m\n\u001b[1;32m     27\u001b[0m \u001b[43m    \u001b[49m\u001b[43mstochastic\u001b[49m\u001b[43m \u001b[49m\u001b[38;5;241;43m=\u001b[39;49m\u001b[43m \u001b[49m\u001b[38;5;28;43;01mFalse\u001b[39;49;00m\u001b[43m,\u001b[49m\n\u001b[1;32m     28\u001b[0m \u001b[43m    \u001b[49m\u001b[43mlog\u001b[49m\u001b[43m \u001b[49m\u001b[38;5;241;43m=\u001b[39;49m\u001b[43m \u001b[49m\u001b[38;5;28;43;01mTrue\u001b[39;49;00m\n\u001b[1;32m     29\u001b[0m \n\u001b[1;32m     30\u001b[0m \u001b[43m)\u001b[49m\n\u001b[1;32m     32\u001b[0m graph \u001b[38;5;241m=\u001b[39m QuantumCircuitHyperGraph(circuit,group_gates\u001b[38;5;241m=\u001b[39m\u001b[38;5;28;01mTrue\u001b[39;00m)\n\u001b[1;32m     34\u001b[0m final_cost, final_assignment, cost_list_2 \u001b[38;5;241m=\u001b[39m run_FM(\n\u001b[1;32m     35\u001b[0m     graph,\n\u001b[1;32m     36\u001b[0m     initial_assignment,\n\u001b[0;32m   (...)\u001b[0m\n\u001b[1;32m     40\u001b[0m     log \u001b[38;5;241m=\u001b[39m \u001b[38;5;28;01mTrue\u001b[39;00m\n\u001b[1;32m     41\u001b[0m )\n",
      "File \u001b[0;32m~/MLQCP_FM/src/disqco/parti/FM/FM_main.py:108\u001b[0m, in \u001b[0;36mrun_FM\u001b[0;34m(hypergraph, initial_assignment, qpu_info, limit, max_gain, passes, stochastic, active_nodes, log, add_initial, costs, network)\u001b[0m\n\u001b[1;32m    105\u001b[0m \u001b[38;5;66;03m# print(\"Starting FM passes...\")\u001b[39;00m\n\u001b[1;32m    106\u001b[0m \u001b[38;5;28;01mfor\u001b[39;00m n \u001b[38;5;129;01min\u001b[39;00m \u001b[38;5;28mrange\u001b[39m(passes):\n\u001b[1;32m    107\u001b[0m     \u001b[38;5;66;03m# print(f\"Pass number: {n}\")\u001b[39;00m\n\u001b[0;32m--> 108\u001b[0m     assignment_list, gain_list \u001b[38;5;241m=\u001b[39m \u001b[43mFM_pass\u001b[49m\u001b[43m(\u001b[49m\n\u001b[1;32m    109\u001b[0m \u001b[43m        \u001b[49m\u001b[43mhypergraph\u001b[49m\u001b[43m,\u001b[49m\u001b[43m \u001b[49m\u001b[43mmax_gain\u001b[49m\u001b[43m,\u001b[49m\u001b[43m \u001b[49m\u001b[43minitial_assignment\u001b[49m\u001b[43m,\u001b[49m\n\u001b[1;32m    110\u001b[0m \u001b[43m        \u001b[49m\u001b[43mqpu_info\u001b[49m\u001b[43m,\u001b[49m\u001b[43m \u001b[49m\u001b[43mcosts\u001b[49m\u001b[43m,\u001b[49m\u001b[43m \u001b[49m\u001b[43mlimit\u001b[49m\u001b[43m,\u001b[49m\u001b[43m \u001b[49m\u001b[43mactive_nodes\u001b[49m\u001b[43m \u001b[49m\u001b[38;5;241;43m=\u001b[39;49m\u001b[43m \u001b[49m\u001b[43mactive_nodes\u001b[49m\u001b[43m,\u001b[49m\n\u001b[1;32m    111\u001b[0m \u001b[43m        \u001b[49m\u001b[43mnetwork\u001b[49m\u001b[43m \u001b[49m\u001b[38;5;241;43m=\u001b[39;49m\u001b[43m \u001b[49m\u001b[43mnetwork\u001b[49m\n\u001b[1;32m    112\u001b[0m \u001b[43m    \u001b[49m\u001b[43m)\u001b[49m\n\u001b[1;32m    114\u001b[0m     \u001b[38;5;66;03m# Decide how to pick new assignment depending on stochastic or not\u001b[39;00m\n\u001b[1;32m    115\u001b[0m     \u001b[38;5;28;01mif\u001b[39;00m stochastic:\n",
      "File \u001b[0;32m~/MLQCP_FM/src/disqco/parti/FM/FM_main.py:46\u001b[0m, in \u001b[0;36mFM_pass\u001b[0;34m(hypergraph, max_gain, assignment, qpu_info, costs, limit, active_nodes, network)\u001b[0m\n\u001b[1;32m     44\u001b[0m source \u001b[38;5;241m=\u001b[39m assignment[node[\u001b[38;5;241m1\u001b[39m]][node[\u001b[38;5;241m0\u001b[39m]]\n\u001b[1;32m     45\u001b[0m \u001b[38;5;66;03m# source = assignment[node]\u001b[39;00m\n\u001b[0;32m---> 46\u001b[0m assignment_new, array, buckets \u001b[38;5;241m=\u001b[39m \u001b[43mtake_action_and_update\u001b[49m\u001b[43m(\u001b[49m\u001b[43mhypergraph\u001b[49m\u001b[43m,\u001b[49m\u001b[43mnode\u001b[49m\u001b[43m,\u001b[49m\u001b[43mdestination\u001b[49m\u001b[43m,\u001b[49m\u001b[43marray\u001b[49m\u001b[43m,\u001b[49m\u001b[43mbuckets\u001b[49m\u001b[43m,\u001b[49m\u001b[43mnum_partitions\u001b[49m\u001b[43m,\u001b[49m\u001b[43mlock_dict\u001b[49m\u001b[43m,\u001b[49m\u001b[43massignment\u001b[49m\u001b[43m,\u001b[49m\u001b[43mcosts\u001b[49m\u001b[43m)\u001b[49m\n\u001b[1;32m     48\u001b[0m \u001b[38;5;66;03m# assignment_new, array, buckets = take_action_and_update_dict_simple(hypergraph,node,destination,array,buckets,num_partitions,lock_dict,assignment,costs)\u001b[39;00m\n\u001b[1;32m     50\u001b[0m update_spaces(node,source,destination,spaces)\n",
      "File \u001b[0;32m~/MLQCP_FM/src/disqco/parti/FM/FM_methods.py:438\u001b[0m, in \u001b[0;36mtake_action_and_update\u001b[0;34m(hypergraph, node, destination, array, buckets, num_partitions, lock_dict, assignment, costs)\u001b[0m\n\u001b[1;32m    435\u001b[0m \u001b[38;5;28;01mif\u001b[39;00m source \u001b[38;5;241m!=\u001b[39m next_destination:\n\u001b[1;32m    436\u001b[0m     next_action \u001b[38;5;241m=\u001b[39m (next_root_node[\u001b[38;5;241m1\u001b[39m], next_root_node[\u001b[38;5;241m0\u001b[39m], next_destination)\n\u001b[0;32m--> 438\u001b[0m     next_root_counts_b, source1 \u001b[38;5;241m=\u001b[39m \u001b[43mupdate_counts\u001b[49m\u001b[43m(\u001b[49m\u001b[43mroot_counts_pre\u001b[49m\u001b[43m,\u001b[49m\u001b[43m \u001b[49m\u001b[43mnext_root_node\u001b[49m\u001b[43m,\u001b[49m\u001b[43m \u001b[49m\u001b[43mnext_destination\u001b[49m\u001b[43m,\u001b[49m\u001b[43m \u001b[49m\u001b[43massignment\u001b[49m\u001b[43m)\u001b[49m\n\u001b[1;32m    439\u001b[0m     full_config_b \u001b[38;5;241m=\u001b[39m update_config_from_counts(conf,next_root_counts_b,rec_counts_pre,source1,next_destination)\n\u001b[1;32m    441\u001b[0m     next_root_counts_ab, source2 \u001b[38;5;241m=\u001b[39m update_counts(root_counts_a, next_root_node, next_destination, assignment_new)\n",
      "File \u001b[0;32m~/MLQCP_FM/src/disqco/parti/FM/FM_methods.py:170\u001b[0m, in \u001b[0;36mupdate_counts\u001b[0;34m(counts, node, destination, assignment)\u001b[0m\n\u001b[1;32m    167\u001b[0m \u001b[38;5;28;01mdef\u001b[39;00m\u001b[38;5;250m \u001b[39m\u001b[38;5;21mupdate_counts\u001b[39m(counts,node,destination,assignment):\n\u001b[1;32m    168\u001b[0m     \u001b[38;5;66;03m# partition = assignment[node]\u001b[39;00m\n\u001b[1;32m    169\u001b[0m     partition \u001b[38;5;241m=\u001b[39m assignment[node[\u001b[38;5;241m1\u001b[39m]][node[\u001b[38;5;241m0\u001b[39m]]\n\u001b[0;32m--> 170\u001b[0m     new_counts \u001b[38;5;241m=\u001b[39m \u001b[43mcopy\u001b[49m\u001b[38;5;241;43m.\u001b[39;49m\u001b[43mdeepcopy\u001b[49m\u001b[43m(\u001b[49m\u001b[38;5;28;43mlist\u001b[39;49m\u001b[43m(\u001b[49m\u001b[43mcounts\u001b[49m\u001b[43m)\u001b[49m\u001b[43m)\u001b[49m\n\u001b[1;32m    171\u001b[0m     new_counts[partition] \u001b[38;5;241m-\u001b[39m\u001b[38;5;241m=\u001b[39m \u001b[38;5;241m1\u001b[39m\n\u001b[1;32m    172\u001b[0m     new_counts[destination] \u001b[38;5;241m+\u001b[39m\u001b[38;5;241m=\u001b[39m \u001b[38;5;241m1\u001b[39m\n",
      "File \u001b[0;32m/opt/homebrew/Cellar/python@3.13/3.13.1/Frameworks/Python.framework/Versions/3.13/lib/python3.13/copy.py:168\u001b[0m, in \u001b[0;36mdeepcopy\u001b[0;34m(x, memo, _nil)\u001b[0m\n\u001b[1;32m    166\u001b[0m \u001b[38;5;28;01mif\u001b[39;00m y \u001b[38;5;129;01mis\u001b[39;00m \u001b[38;5;129;01mnot\u001b[39;00m x:\n\u001b[1;32m    167\u001b[0m     memo[d] \u001b[38;5;241m=\u001b[39m y\n\u001b[0;32m--> 168\u001b[0m     \u001b[43m_keep_alive\u001b[49m\u001b[43m(\u001b[49m\u001b[43mx\u001b[49m\u001b[43m,\u001b[49m\u001b[43m \u001b[49m\u001b[43mmemo\u001b[49m\u001b[43m)\u001b[49m \u001b[38;5;66;03m# Make sure x lives at least as long as d\u001b[39;00m\n\u001b[1;32m    169\u001b[0m \u001b[38;5;28;01mreturn\u001b[39;00m y\n",
      "File \u001b[0;32m/opt/homebrew/Cellar/python@3.13/3.13.1/Frameworks/Python.framework/Versions/3.13/lib/python3.13/copy.py:246\u001b[0m, in \u001b[0;36m_keep_alive\u001b[0;34m(x, memo)\u001b[0m\n\u001b[1;32m    243\u001b[0m     memo[\u001b[38;5;28mid\u001b[39m(memo)]\u001b[38;5;241m.\u001b[39mappend(x)\n\u001b[1;32m    244\u001b[0m \u001b[38;5;28;01mexcept\u001b[39;00m \u001b[38;5;167;01mKeyError\u001b[39;00m:\n\u001b[1;32m    245\u001b[0m     \u001b[38;5;66;03m# aha, this is the first one :-)\u001b[39;00m\n\u001b[0;32m--> 246\u001b[0m     memo[\u001b[38;5;28;43mid\u001b[39;49m\u001b[43m(\u001b[49m\u001b[43mmemo\u001b[49m\u001b[43m)\u001b[49m]\u001b[38;5;241m=\u001b[39m[x]\n",
      "\u001b[0;31mKeyboardInterrupt\u001b[0m: "
     ]
    }
   ],
   "source": [
    "from disqco.graphs.GCP_hypergraph import QuantumCircuitHyperGraph\n",
    "from qiskit import transpile\n",
    "from disqco.circuits.cp_fraction import cp_fraction\n",
    "from disqco.parti.FM.FM_methods import set_initial_partitions\n",
    "from disqco.graphs.quantum_network import QuantumNetwork\n",
    "\n",
    "num_qubits = 48\n",
    "\n",
    "num_partitions = 6\n",
    "\n",
    "qpu_info = [int(num_qubits/num_partitions) + 1 for i in range(num_partitions)]\n",
    "network = QuantumNetwork(qpu_info)\n",
    "\n",
    "circuit = cp_fraction(num_qubits, num_qubits, 0.5)\n",
    "circuit = transpile(circuit, basis_gates=['cp', 'u'])\n",
    "graph = QuantumCircuitHyperGraph(circuit, group_gates=True)\n",
    "\n",
    "initial_assignment = set_initial_partitions(network, num_qubits, circuit.depth())\n",
    "\n",
    "from disqco.parti.FM.FM_main import run_FM\n",
    "\n",
    "final_cost, final_assignment, cost_list_1 = run_FM(\n",
    "    graph,\n",
    "    initial_assignment,\n",
    "    qpu_info,\n",
    "    limit = num_qubits*graph.depth*0.125,\n",
    "    stochastic = False,\n",
    "    log = True\n",
    "\n",
    ")\n",
    "\n",
    "graph = QuantumCircuitHyperGraph(circuit,group_gates=True)\n",
    "\n",
    "final_cost, final_assignment, cost_list_2 = run_FM(\n",
    "    graph,\n",
    "    initial_assignment,\n",
    "    qpu_info,\n",
    "    limit = num_qubits*graph.depth*0.125,\n",
    "    stochastic = True,\n",
    "    log = True\n",
    ")"
   ]
  },
  {
   "cell_type": "code",
   "execution_count": null,
   "metadata": {},
   "outputs": [
    {
     "ename": "NameError",
     "evalue": "name 'time_list' is not defined",
     "output_type": "error",
     "traceback": [
      "\u001b[0;31m---------------------------------------------------------------------------\u001b[0m",
      "\u001b[0;31mNameError\u001b[0m                                 Traceback (most recent call last)",
      "Cell \u001b[0;32mIn[11], line 5\u001b[0m\n\u001b[1;32m      2\u001b[0m \u001b[38;5;28;01mimport\u001b[39;00m\u001b[38;5;250m \u001b[39m\u001b[38;5;21;01mnumpy\u001b[39;00m\u001b[38;5;250m \u001b[39m\u001b[38;5;28;01mas\u001b[39;00m\u001b[38;5;250m \u001b[39m\u001b[38;5;21;01mnp\u001b[39;00m\n\u001b[1;32m      4\u001b[0m x \u001b[38;5;241m=\u001b[39m np\u001b[38;5;241m.\u001b[39mlinspace(\u001b[38;5;241m0\u001b[39m, \u001b[38;5;28mlen\u001b[39m(cost_list_1), \u001b[38;5;28mlen\u001b[39m(cost_list_1))  \u001b[38;5;66;03m# Create a list of numbers from 0 to 1 with 50 elements\u001b[39;00m\n\u001b[0;32m----> 5\u001b[0m y1 \u001b[38;5;241m=\u001b[39m  \u001b[43mtime_list\u001b[49m      \u001b[38;5;66;03m# Data for left y-axis\u001b[39;00m\n\u001b[1;32m      6\u001b[0m y2 \u001b[38;5;241m=\u001b[39m  cost_list_1    \u001b[38;5;66;03m# Data for right y-axis\u001b[39;00m\n\u001b[1;32m      7\u001b[0m y3 \u001b[38;5;241m=\u001b[39m  cost_list_2    \u001b[38;5;66;03m# Data for right y-axis\u001b[39;00m\n",
      "\u001b[0;31mNameError\u001b[0m: name 'time_list' is not defined"
     ]
    }
   ],
   "source": [
    "import matplotlib.pyplot as plt\n",
    "import numpy as np\n",
    "\n",
    "x = np.linspace(0, len(cost_list_1), len(cost_list_1))  # Create a list of numbers from 0 to 1 with 50 elements\n",
    "\n",
    "y1 =  cost_list_1    # Data for right y-axis\n",
    "y2 =  cost_list_2    # Data for right y-axis\n",
    "\n",
    "fig, ax1 = plt.subplots()\n",
    "\n",
    "plt.plot(x, y1, color=\"red\", label=\"Cost FM\")\n",
    "plt.plot(x, y2, color=\"orange\", label=\"Cost FM Exploratory\")\n",
    "\n",
    "plt.legend()\n",
    "\n"
   ]
  }
 ],
 "metadata": {
  "kernelspec": {
   "display_name": ".venv",
   "language": "python",
   "name": "python3"
  },
  "language_info": {
   "codemirror_mode": {
    "name": "ipython",
    "version": 3
   },
   "file_extension": ".py",
   "mimetype": "text/x-python",
   "name": "python",
   "nbconvert_exporter": "python",
   "pygments_lexer": "ipython3",
   "version": "3.13.1"
  }
 },
 "nbformat": 4,
 "nbformat_minor": 2
}
