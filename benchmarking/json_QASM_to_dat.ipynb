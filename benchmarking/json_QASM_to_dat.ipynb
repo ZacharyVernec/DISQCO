{
 "cells": [
  {
   "cell_type": "code",
   "execution_count": 16,
   "metadata": {},
   "outputs": [
    {
     "name": "stdout",
     "output_type": "stream",
     "text": [
      "Done. Created /Users/ftb123/MLQCP_FM/benchmarking/dat_files/FM_tket_table_QASM.dat with one line per JSON record.\n"
     ]
    }
   ],
   "source": [
    "import json\n",
    "import sys\n",
    "\n",
    "def json_to_dat(json_in_FM, json_in_tket, json_in_tket2, dat_out):\n",
    "    \"\"\"\n",
    "    Reads 'json_in' which contains a list of records (each with\n",
    "    mean_part_cost, mean_embed_cost, etc.), and writes one row\n",
    "    per record into 'dat_out'.\n",
    "    \"\"\"\n",
    "    # 1. Load the JSON data\n",
    "    with open(json_in_FM, 'r') as f:\n",
    "        data_FM = json.load(f)\n",
    "    \n",
    "    with open(json_in_tket, 'r') as f:\n",
    "        data_tket = json.load(f)\n",
    "\n",
    "    with open(json_in_tket2, 'r') as f:\n",
    "        data_tket2 = json.load(f)\n",
    "\n",
    "    # 2. Write out rows to a .dat file\n",
    "    with open(dat_out, 'w') as out:\n",
    "        # Optional: write a header line\n",
    "        out.write(\"# circuit_name  num_partitions  part_cost  part_time  embed_cost  embed_time esd_cost esd_time MLFM_rec_cost MLFM_rec_time \\n\")\n",
    "        data_FM = sorted(data_FM, key=lambda x: (x[\"circuit_name\"], x[\"num_partitions\"]))\n",
    "        data_tket = sorted(data_tket, key=lambda x: (x[\"circuit name\"], x[\"num_partitions\"]))\n",
    "        data_tket2 = sorted(data_tket2, key=lambda x: (x[\"circuit name\"], x[\"num_partitions\"]))\n",
    "        # Each dictionary in 'data' is written as a single row\n",
    "        for record_FM, record_tket, record_tket2 in zip(data_FM, data_tket, data_tket2):\n",
    "\n",
    "            circuit_name = record_FM[\"circuit_name\"]\n",
    "            k = record_FM[\"num_partitions\"]\n",
    "            r_cost = record_FM[\"mean_r_cost\"]\n",
    "            r_time = record_FM[\"mean_r_time\"]\n",
    "            part_cost = record_tket[\"mean_part_cost\"]\n",
    "            part_time = record_tket[\"mean_part_time\"]\n",
    "            embed_cost = record_tket[\"mean_embed_cost\"]\n",
    "            embed_time = record_tket[\"mean_embed_time\"] + part_time\n",
    "            esd_cost = record_tket2[\"mean_detached_cost\"]\n",
    "            esd_time = record_tket2[\"mean_init_time\"] + record_tket2[\"mean_vc_time\"] + record_tket2[\"mean_steiner_time\"] + record_tket2[\"mean_detached_time\"]\n",
    "\n",
    "\n",
    "\n",
    "\n",
    "            out.write(f\"{circuit_name} {k} {part_cost} {part_time} {embed_cost} {embed_time} {esd_cost} {esd_time} {r_cost} {r_time}\\n\")\n",
    "\n",
    "    print(f\"Done. Created {dat_out} with one line per JSON record.\")\n",
    "path_FM = \"/Users/ftb123/MLQCP_FM/JSON_data/Means/benchmark_means_FM_QASM_3_5it.json\"\n",
    "path_tket = \"/Users/ftb123/pytket-dqc/examples/JSON data/Means/benchmark_means_PE_QASM_2.json\"\n",
    "path_tket2 = \"/Users/ftb123/pytket-dqc/examples/JSON data/Means/benchmark_means_QASM_ESD.json\"\n",
    "json_to_dat(path_FM, path_tket, path_tket2, \"/Users/ftb123/MLQCP_FM/benchmarking/dat_files/FM_tket_table_QASM.dat\")"
   ]
  },
  {
   "cell_type": "code",
   "execution_count": null,
   "metadata": {},
   "outputs": [],
   "source": [
    "from QASMBench.interface.qiskit import QASMBenchmark\n",
    "\n",
    "# path to the root directory of QASMBench\n",
    "path = \"QASMBench\"\n",
    "\n",
    "# selected category for QASMBench\n",
    "category = \"large\" \n",
    "\n",
    "# select only the circuits with the number of qubits in the list\n",
    "num_qubits_list = list(range(50, 70))\n",
    "\n",
    "# whether to remove the final measurement in the circuit\n",
    "remove_final_measurements = True\n",
    "\n",
    "# whether to use qiskit.transpile() to transpile the circuits (note: must provide qiskit backend)\n",
    "do_transpile = True  # Changed to True for transpiling circuits\n",
    "\n",
    "# arguments for qiskit.transpile(). backend should be provided at least\n",
    "transpile_args = { 'basis_gates': ['u', 'cp']}\n",
    "\n",
    "bm = QASMBenchmark(path, category, num_qubits_list=num_qubits_list, do_transpile=do_transpile, **transpile_args, remove_final_measurements=remove_final_measurements)\n",
    "\n",
    "for "
   ]
  }
 ],
 "metadata": {
  "kernelspec": {
   "display_name": "base",
   "language": "python",
   "name": "python3"
  },
  "language_info": {
   "codemirror_mode": {
    "name": "ipython",
    "version": 3
   },
   "file_extension": ".py",
   "mimetype": "text/x-python",
   "name": "python",
   "nbconvert_exporter": "python",
   "pygments_lexer": "ipython3",
   "version": "3.12.2"
  }
 },
 "nbformat": 4,
 "nbformat_minor": 2
}
